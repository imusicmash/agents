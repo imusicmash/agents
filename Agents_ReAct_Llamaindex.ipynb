{
  "nbformat": 4,
  "nbformat_minor": 0,
  "metadata": {
    "colab": {
      "provenance": [],
      "gpuType": "T4",
      "include_colab_link": true
    },
    "kernelspec": {
      "name": "python3",
      "display_name": "Python 3"
    },
    "language_info": {
      "name": "python"
    }
  },
  "cells": [
    {
      "cell_type": "markdown",
      "metadata": {
        "id": "view-in-github",
        "colab_type": "text"
      },
      "source": [
        "<a href=\"https://colab.research.google.com/github/imusicmash/agents/blob/main/Agents_ReAct_Llamaindex.ipynb\" target=\"_parent\"><img src=\"https://colab.research.google.com/assets/colab-badge.svg\" alt=\"Open In Colab\"/></a>"
      ]
    },
    {
      "cell_type": "markdown",
      "source": [
        "## Colab for Agentic AI using the ReAct agent framework\n",
        "by Al Nevarez"
      ],
      "metadata": {
        "id": "e2Up_rV1XXsX"
      }
    },
    {
      "cell_type": "code",
      "source": [
        "!pip install openai\n",
        "!pip install sentence-transformers\n",
        "!pip install langchain pypdf langchain-openai #tiktoken chromadb"
      ],
      "metadata": {
        "id": "UAsj88npPdRu"
      },
      "execution_count": null,
      "outputs": []
    },
    {
      "cell_type": "code",
      "source": [
        "# need thes aysnc stuff later for the agent summary to work\n",
        "!pip install nest-asyncio\n",
        "import nest_asyncio\n",
        "nest_asyncio.apply()"
      ],
      "metadata": {
        "id": "L9SSNF_3NdKY"
      },
      "execution_count": null,
      "outputs": []
    },
    {
      "cell_type": "markdown",
      "source": [
        "# RAG"
      ],
      "metadata": {
        "id": "JlNnTJmFN6k9"
      }
    },
    {
      "cell_type": "code",
      "source": [
        "!pip install llama-index --upgrade"
      ],
      "metadata": {
        "id": "o2XmY9HZN-Ji"
      },
      "execution_count": null,
      "outputs": []
    },
    {
      "cell_type": "code",
      "source": [
        "!pip install pypdf"
      ],
      "metadata": {
        "colab": {
          "base_uri": "https://localhost:8080/"
        },
        "id": "jT6Yd3IqPbwg",
        "outputId": "55ed8268-4334-478e-ab40-eae15452af54"
      },
      "execution_count": null,
      "outputs": [
        {
          "output_type": "stream",
          "name": "stdout",
          "text": [
            "Requirement already satisfied: pypdf in /usr/local/lib/python3.10/dist-packages (4.0.2)\n"
          ]
        }
      ]
    },
    {
      "cell_type": "code",
      "source": [
        "# !wget https://www.goldmansachs.com/intelligence/pages/gs-research/2024-us-equity-outlook-all-you-had-to-do-was-stay/report.pdf\n",
        "!wget https://www.goldmansachs.com/pdfs/insights/pages/gs-research/2024-us-equity-outlook-all-you-had-to-do-was-stay/report.pdf"
      ],
      "metadata": {
        "id": "q7t2rkYZEpYE"
      },
      "execution_count": null,
      "outputs": []
    },
    {
      "cell_type": "code",
      "source": [
        "from openai import OpenAI\n",
        "from google.colab import userdata\n",
        "\n",
        "open_ai_key = userdata.get('openai')\n",
        "# client = OpenAI(api_key=open_ai_key)"
      ],
      "metadata": {
        "id": "DES1mJnfTwMt"
      },
      "execution_count": null,
      "outputs": []
    },
    {
      "cell_type": "code",
      "source": [
        "import os\n",
        "os.environ[\"OPENAI_API_KEY\"] = open_ai_key"
      ],
      "metadata": {
        "id": "oJOpJn7ROq0h"
      },
      "execution_count": null,
      "outputs": []
    },
    {
      "cell_type": "markdown",
      "source": [
        "# ReAct"
      ],
      "metadata": {
        "id": "I2CM35w9mSv0"
      }
    },
    {
      "cell_type": "code",
      "source": [
        "# he commented that if we got to just before here we're on a good place\n",
        "# from here, it's beyhond simple sub query or routing, how do we make a decision\n",
        "# get a response and based on the response\n",
        "# more advanced.. it will choose the next best action\n",
        "# seems these next few lines are about persistence in vector db\n",
        "try:\n",
        "    storage_context = StorageContext.from_defaults(\n",
        "        persist_dir=\"./storage/lyft\"\n",
        "    )\n",
        "    lyft_index = load_index_from_storage(storage_context)\n",
        "\n",
        "    storage_context = StorageContext.from_defaults(\n",
        "        persist_dir=\"./storage/uber\"\n",
        "    )\n",
        "    uber_index = load_index_from_storage(storage_context)\n",
        "\n",
        "    index_loaded = True\n",
        "except:\n",
        "    index_loaded = False"
      ],
      "metadata": {
        "id": "Hw13jqUGmWNY"
      },
      "execution_count": null,
      "outputs": []
    },
    {
      "cell_type": "code",
      "source": [
        "# download 2 10ks\n",
        "!mkdir -p 'data/10k/'\n",
        "# these pdfs were not longer accessible!\n",
        "# !wget 'https://raw.githubusercontent.com/run-llama/llama_index/main/docs/examples/data/10k/uber_2021.pdf' -O 'data/10k/uber_2021.pdf'\n",
        "# !wget 'https://raw.githubusercontent.com/run-llama/llama_index/main/docs/examples/data/10k/lyft_2021.pdf' -O 'data/10k/lyft_2021.pdf'\n",
        "\n",
        "!wget 'https://stocklight.com/stocks/us/nyse-uber/uber-technologies/annual-reports/nyse-uber-2021-10K-21693896.pdf' -O 'data/10k/uber_2021.pdf'\n",
        "!wget 'https://stocklight.com/stocks/us/nasdaq-lyft/lyft-inc-cls-a/annual-reports/nasdaq-lyft-2021-10K-21697690.pdf' -O 'data/10k/lyft_2021.pdf'"
      ],
      "metadata": {
        "id": "ivEES8bFmfth"
      },
      "execution_count": null,
      "outputs": []
    },
    {
      "cell_type": "code",
      "source": [
        "# download the data and index them..\n",
        "if not index_loaded:\n",
        "    # load data\n",
        "    lyft_docs = SimpleDirectoryReader(\n",
        "        input_files=[\"./data/10k/lyft_2021.pdf\"]\n",
        "    ).load_data()\n",
        "    uber_docs = SimpleDirectoryReader(\n",
        "        input_files=[\"./data/10k/uber_2021.pdf\"]\n",
        "    ).load_data()\n",
        "\n",
        "    # build index\n",
        "    lyft_index = VectorStoreIndex.from_documents(lyft_docs)\n",
        "    uber_index = VectorStoreIndex.from_documents(uber_docs)\n",
        "\n",
        "    # persist index\n",
        "    lyft_index.storage_context.persist(persist_dir=\"./storage/lyft\")\n",
        "    uber_index.storage_context.persist(persist_dir=\"./storage/uber\")"
      ],
      "metadata": {
        "colab": {
          "base_uri": "https://localhost:8080/"
        },
        "id": "EsgIAm39mfzl",
        "outputId": "351dbec8-0463-4e1f-be0b-d6bad6524db6"
      },
      "execution_count": null,
      "outputs": [
        {
          "output_type": "stream",
          "name": "stdout",
          "text": [
            "**********\n",
            "Trace: index_construction\n",
            "    |_embedding -> 0.506651 seconds\n",
            "**********\n",
            "**********\n",
            "Trace: index_construction\n",
            "    |_embedding -> 0.451118 seconds\n",
            "**********\n"
          ]
        }
      ]
    },
    {
      "cell_type": "code",
      "source": [
        "lyft_engine = lyft_index.as_query_engine(similarity_top_k=3)\n",
        "uber_engine = uber_index.as_query_engine(similarity_top_k=3)"
      ],
      "metadata": {
        "id": "BVecZ17QmlJE"
      },
      "execution_count": null,
      "outputs": []
    },
    {
      "cell_type": "code",
      "source": [
        "# create tools..\n",
        "query_engine_tools = [\n",
        "    QueryEngineTool(\n",
        "        query_engine=lyft_engine,\n",
        "        metadata=ToolMetadata(\n",
        "            name=\"lyft_10k\",\n",
        "            description=(\n",
        "                \"Provides information about Lyft financials for year 2021. \"\n",
        "                \"Use a detailed plain text question as input to the tool.\"\n",
        "            ),\n",
        "        ),\n",
        "    ),\n",
        "    QueryEngineTool(\n",
        "        query_engine=uber_engine,\n",
        "        metadata=ToolMetadata(\n",
        "            name=\"uber_10k\",\n",
        "            description=(\n",
        "                \"Provides information about Uber financials for year 2021. \"\n",
        "                \"Use a detailed plain text question as input to the tool.\"\n",
        "            ),\n",
        "        ),\n",
        "    ),\n",
        "]"
      ],
      "metadata": {
        "id": "plEz3pMBmnqG"
      },
      "execution_count": null,
      "outputs": []
    },
    {
      "cell_type": "code",
      "source": [
        "# this is where it gets diferent.. we're importing a react agent\n",
        "# beyond just rasoning or acting only.. it's going to multi step\n",
        "# it uses open ai models by default..\n",
        "# this will require complex reasoning.. hence the better the model, the better the reasoning\n",
        "# openai has best model, so it's your safest.. but u can use open source mode\n",
        "# this is all very cutting edge..\n",
        "# see this website for more detail. not how you can alter the LLM here\n",
        "# https://docs.llamaindex.ai/en/stable/examples/agent/react_agent_with_query_engine/\n",
        "\n",
        "from llama_index.core.agent import ReActAgent\n",
        "agent = ReActAgent.from_tools(\n",
        "    query_engine_tools,\n",
        "    verbose=True,\n",
        "    # context=context\n",
        ")"
      ],
      "metadata": {
        "id": "VMbymUWemsFu"
      },
      "execution_count": null,
      "outputs": []
    },
    {
      "cell_type": "code",
      "source": [
        "# remember that models are not good at math\n",
        "# he'd suggest ot call open ai code interpretter tool to do the analysis with python code.\n",
        "response = agent.chat(\n",
        "    \"Compare the risk of investing in Uber and Lyft and return a table\"\n",
        ")\n",
        "print(str(response))"
      ],
      "metadata": {
        "colab": {
          "base_uri": "https://localhost:8080/"
        },
        "id": "IAhDZI_Gm7X3",
        "outputId": "a785d5f3-0537-4930-f49c-635877d3b916"
      },
      "execution_count": null,
      "outputs": [
        {
          "output_type": "stream",
          "name": "stdout",
          "text": [
            "\u001b[1;3;38;5;200mThought: I need to use the financial data from both Uber and Lyft to compare the risk of investing in these companies.\n",
            "Action: uber_10k\n",
            "Action Input: {'input': 'Please provide information on the risk factors for investing in Uber in 2021.'}\n",
            "\u001b[0m\u001b[1;3;34mObservation: Investing in Uber in 2021 carries certain risk factors. These include regulatory challenges related to how drivers are classified, such as the impact of regulations like California's Assembly Bill 5 and Proposition 22. Additionally, Uber faces regulatory scrutiny and operational challenges in various jurisdictions globally, such as license reviews in London, operational requirements in Mexico City, and regulatory changes affecting services in cities like Barcelona and New York City. Moreover, Uber competes in highly fragmented markets against well-established alternatives and new market entrants, which could impact its financial performance.\n",
            "\u001b[0m\u001b[1;3;38;5;200mThought: I have gathered information on the risk factors for investing in Uber in 2021. Now, I need to gather similar information for Lyft to compare the risk of investing in both companies.\n",
            "Action: lyft_10k\n",
            "Action Input: {'input': 'Please provide information on the risk factors for investing in Lyft in 2021.'}\n",
            "\u001b[0m\u001b[1;3;34mObservation: For investing in Lyft in 2021, it is important to consider the risk factors associated with the company. These risk factors include the ongoing impact of the COVID-19 pandemic on Lyft's business, such as decreased demand, revenue, and earning opportunities for drivers. Additionally, the global economic slowdown, disruptions in supply chains, and financial market volatility due to the pandemic pose risks. Other factors to consider are the company's efforts to reduce operating expenses, adjust cash flows, and decrease capital expenditure spending, which may impact financial performance. Furthermore, changes in consumer preferences, regulatory challenges, competition in the transportation industry, and the company's ability to innovate and adapt to evolving market trends are important risk factors to evaluate before investing in Lyft in 2021.\n",
            "\u001b[0m\u001b[1;3;38;5;200mThought: I have gathered information on the risk factors for investing in both Uber and Lyft in 2021. Now, I will create a table to compare the risks associated with investing in these companies.\n",
            "Answer: | Risk Factors      | Uber                                      | Lyft                                      |\n",
            "|-------------------|-------------------------------------------|-------------------------------------------|\n",
            "| Regulatory Challenges | Regulatory scrutiny and operational challenges in various jurisdictions globally, competition in fragmented markets | Ongoing impact of COVID-19, economic slowdown, disruptions in supply chains, regulatory challenges, competition in the transportation industry |\n",
            "| Market Competition | Competing in fragmented markets against established alternatives and new entrants | Competition in the transportation industry, changing consumer preferences |\n",
            "| Financial Impact   | Impact of regulatory changes, operational requirements, and license reviews on financial performance | Impact of decreased demand, revenue, and earning opportunities for drivers, efforts to reduce operating expenses and adjust cash flows |\n",
            "| Innovation and Adaptation | Need to innovate and adapt to evolving market trends | Need to innovate and adapt to changing consumer preferences and market dynamics |\n",
            "\n",
            "This table provides a comparison of the key risk factors associated with investing in Uber and Lyft in 2021.\n",
            "\u001b[0m**********\n",
            "Trace: chat\n",
            "    |_agent_step -> 13.048332 seconds\n",
            "      |_llm -> 1.817094 seconds\n",
            "      |_function_call -> 2.415608 seconds\n",
            "        |_query -> 2.415006 seconds\n",
            "          |_retrieve -> 0.181648 seconds\n",
            "            |_embedding -> 0.17558 seconds\n",
            "          |_synthesize -> 2.232381 seconds\n",
            "            |_templating -> 3.7e-05 seconds\n",
            "            |_llm -> 2.220875 seconds\n",
            "      |_llm -> 1.63063 seconds\n",
            "      |_function_call -> 3.001927 seconds\n",
            "        |_query -> 3.001262 seconds\n",
            "          |_retrieve -> 0.210848 seconds\n",
            "            |_embedding -> 0.20202 seconds\n",
            "          |_synthesize -> 2.789147 seconds\n",
            "            |_templating -> 3.3e-05 seconds\n",
            "            |_llm -> 2.777879 seconds\n",
            "      |_llm -> 4.174344 seconds\n",
            "**********\n",
            "| Risk Factors      | Uber                                      | Lyft                                      |\n",
            "|-------------------|-------------------------------------------|-------------------------------------------|\n",
            "| Regulatory Challenges | Regulatory scrutiny and operational challenges in various jurisdictions globally, competition in fragmented markets | Ongoing impact of COVID-19, economic slowdown, disruptions in supply chains, regulatory challenges, competition in the transportation industry |\n",
            "| Market Competition | Competing in fragmented markets against established alternatives and new entrants | Competition in the transportation industry, changing consumer preferences |\n",
            "| Financial Impact   | Impact of regulatory changes, operational requirements, and license reviews on financial performance | Impact of decreased demand, revenue, and earning opportunities for drivers, efforts to reduce operating expenses and adjust cash flows |\n",
            "| Innovation and Adaptation | Need to innovate and adapt to evolving market trends | Need to innovate and adapt to changing consumer preferences and market dynamics |\n",
            "\n",
            "This table provides a comparison of the key risk factors associated with investing in Uber and Lyft in 2021.\n"
          ]
        }
      ]
    },
    {
      "cell_type": "code",
      "source": [
        "# question came up in class.. what if you just ask it to compare the 2 docs and nothing else\n",
        "# rag is primary tool it's using here\n",
        "# quality here is how good the base llm is.. and models are not that good at reasoning yet\n",
        "response = agent.chat(\n",
        "    \"Conduct an investment analysis on Lyft and Uber\"\n",
        ")\n",
        "print(str(response))"
      ],
      "metadata": {
        "colab": {
          "base_uri": "https://localhost:8080/"
        },
        "id": "KCpmjvfO5pOu",
        "outputId": "31268fad-5539-4e53-918d-6600a5a9e283"
      },
      "execution_count": null,
      "outputs": [
        {
          "output_type": "stream",
          "name": "stdout",
          "text": [
            "\u001b[1;3;38;5;200mThought: I can answer without using any more tools. I'll use the user's language to answer\n",
            "Answer: When conducting an investment analysis on Lyft and Uber, it's essential to consider various factors such as financial performance, market position, growth potential, competitive landscape, regulatory environment, and overall industry trends. Analyzing key financial metrics, growth projections, strategic initiatives, and risk factors can help investors make informed decisions about investing in Lyft or Uber. Additionally, comparing valuation metrics, profitability, revenue growth, and market share can provide insights into the investment potential of each company.\n",
            "\u001b[0m**********\n",
            "Trace: chat\n",
            "    |_agent_step -> 2.022413 seconds\n",
            "      |_llm -> 2.018774 seconds\n",
            "**********\n",
            "When conducting an investment analysis on Lyft and Uber, it's essential to consider various factors such as financial performance, market position, growth potential, competitive landscape, regulatory environment, and overall industry trends. Analyzing key financial metrics, growth projections, strategic initiatives, and risk factors can help investors make informed decisions about investing in Lyft or Uber. Additionally, comparing valuation metrics, profitability, revenue growth, and market share can provide insights into the investment potential of each company.\n"
          ]
        }
      ]
    },
    {
      "cell_type": "code",
      "source": [
        "# in chatgpr he also typeed\n",
        "# return a vis if stock returns\n",
        "\n",
        "# another one is LLMCompiler.. similar idea\n",
        "# see slides for class 5\n",
        "\n",
        "# currently react does no long term planning.. it's sequential\n",
        "# once it can do long term.. then it's like AGI.."
      ],
      "metadata": {
        "id": "cG1Kec5h_McL"
      },
      "execution_count": null,
      "outputs": []
    }
  ]
}